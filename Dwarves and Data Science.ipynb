{
 "cells": [
  {
   "cell_type": "code",
   "execution_count": 30,
   "id": "360f15a9",
   "metadata": {},
   "outputs": [],
   "source": [
    "import pandas as pd\n",
    "from sklearn.model_selection import train_test_split\n",
    "import lightgbm as lgb\n",
    "import numpy as np\n",
    "import seaborn as sns"
   ]
  },
  {
   "cell_type": "code",
   "execution_count": 3,
   "id": "1ff981ff",
   "metadata": {},
   "outputs": [],
   "source": [
    "df = pd.read_csv('dwarves_output.csv')"
   ]
  },
  {
   "cell_type": "code",
   "execution_count": 4,
   "id": "b7354e8f",
   "metadata": {},
   "outputs": [
    {
     "data": {
      "text/plain": [
       "(167391, 20)"
      ]
     },
     "execution_count": 4,
     "metadata": {},
     "output_type": "execute_result"
    }
   ],
   "source": [
    "df.shape"
   ]
  },
  {
   "cell_type": "code",
   "execution_count": 5,
   "id": "327fffa0",
   "metadata": {},
   "outputs": [
    {
     "data": {
      "text/html": [
       "<div>\n",
       "<style scoped>\n",
       "    .dataframe tbody tr th:only-of-type {\n",
       "        vertical-align: middle;\n",
       "    }\n",
       "\n",
       "    .dataframe tbody tr th {\n",
       "        vertical-align: top;\n",
       "    }\n",
       "\n",
       "    .dataframe thead th {\n",
       "        text-align: right;\n",
       "    }\n",
       "</style>\n",
       "<table border=\"1\" class=\"dataframe\">\n",
       "  <thead>\n",
       "    <tr style=\"text-align: right;\">\n",
       "      <th></th>\n",
       "      <th>Full Fort Description</th>\n",
       "      <th>Fort Name</th>\n",
       "      <th>Biome</th>\n",
       "      <th>Coal Level</th>\n",
       "      <th>Copper available?</th>\n",
       "      <th>Gold available?</th>\n",
       "      <th>Hematite available?</th>\n",
       "      <th>Magnetite available?</th>\n",
       "      <th>Silver available?</th>\n",
       "      <th>Tin available?</th>\n",
       "      <th>Size of Expedition</th>\n",
       "      <th>Miners sent</th>\n",
       "      <th>Smiths sent</th>\n",
       "      <th>Woodcutters sent</th>\n",
       "      <th>Farmers sent</th>\n",
       "      <th>Brewers sent</th>\n",
       "      <th>Warriors sent</th>\n",
       "      <th>Crafters sent</th>\n",
       "      <th>Fort Survived?</th>\n",
       "      <th>Fort Value</th>\n",
       "    </tr>\n",
       "  </thead>\n",
       "  <tbody>\n",
       "    <tr>\n",
       "      <th>0</th>\n",
       "      <td>Relicrope (Jungle; No Coal; Copper; Gold; Hema...</td>\n",
       "      <td>Relicrope</td>\n",
       "      <td>Jungle</td>\n",
       "      <td>0</td>\n",
       "      <td>1</td>\n",
       "      <td>1</td>\n",
       "      <td>1</td>\n",
       "      <td>0</td>\n",
       "      <td>1</td>\n",
       "      <td>0</td>\n",
       "      <td>13</td>\n",
       "      <td>2</td>\n",
       "      <td>2</td>\n",
       "      <td>1</td>\n",
       "      <td>4</td>\n",
       "      <td>1</td>\n",
       "      <td>3</td>\n",
       "      <td>0</td>\n",
       "      <td>1</td>\n",
       "      <td>312</td>\n",
       "    </tr>\n",
       "  </tbody>\n",
       "</table>\n",
       "</div>"
      ],
      "text/plain": [
       "                               Full Fort Description  Fort Name   Biome  \\\n",
       "0  Relicrope (Jungle; No Coal; Copper; Gold; Hema...  Relicrope  Jungle   \n",
       "\n",
       "   Coal Level  Copper available?  Gold available?  Hematite available?  \\\n",
       "0           0                  1                1                    1   \n",
       "\n",
       "   Magnetite available?  Silver available?  Tin available?  \\\n",
       "0                     0                  1               0   \n",
       "\n",
       "   Size of Expedition  Miners sent  Smiths sent  Woodcutters sent  \\\n",
       "0                  13            2            2                 1   \n",
       "\n",
       "   Farmers sent  Brewers sent  Warriors sent  Crafters sent  Fort Survived?  \\\n",
       "0             4             1              3              0               1   \n",
       "\n",
       "   Fort Value  \n",
       "0         312  "
      ]
     },
     "execution_count": 5,
     "metadata": {},
     "output_type": "execute_result"
    }
   ],
   "source": [
    "df.head(1)"
   ]
  },
  {
   "cell_type": "markdown",
   "id": "f77a5b76",
   "metadata": {},
   "source": [
    "## Consider irrelevant forts with more than 13 dwarves"
   ]
  },
  {
   "cell_type": "code",
   "execution_count": 6,
   "id": "7de8ae54",
   "metadata": {},
   "outputs": [],
   "source": [
    "df = df[df['Size of Expedition'] <= 13].copy()"
   ]
  },
  {
   "cell_type": "code",
   "execution_count": 7,
   "id": "a5c608a7",
   "metadata": {},
   "outputs": [
    {
     "data": {
      "text/plain": [
       "(62505, 20)"
      ]
     },
     "execution_count": 7,
     "metadata": {},
     "output_type": "execute_result"
    }
   ],
   "source": [
    "df.shape"
   ]
  },
  {
   "cell_type": "code",
   "execution_count": 8,
   "id": "80dd6c09",
   "metadata": {},
   "outputs": [],
   "source": [
    "features = [\n",
    "    'Miners sent', \n",
    "    'Smiths sent', \n",
    "    'Woodcutters sent',\n",
    "    'Farmers sent', \n",
    "    'Brewers sent', \n",
    "    'Warriors sent', \n",
    "    'Crafters sent'\n",
    "]\n",
    "\n",
    "y_sur_label = 'Fort Survived?'\n",
    "y_value_label = 'Fort Value'"
   ]
  },
  {
   "cell_type": "markdown",
   "id": "d61bf041",
   "metadata": {},
   "source": [
    "This feature will be explained later"
   ]
  },
  {
   "cell_type": "code",
   "execution_count": 9,
   "id": "1b84401d",
   "metadata": {},
   "outputs": [],
   "source": [
    "df['farmers_plus_brewers'] = df['Farmers sent'] + df['Brewers sent']"
   ]
  },
  {
   "cell_type": "markdown",
   "id": "ab427261",
   "metadata": {},
   "source": [
    "## First things first, leave the validation dataset"
   ]
  },
  {
   "cell_type": "code",
   "execution_count": 10,
   "id": "fe358f21",
   "metadata": {},
   "outputs": [],
   "source": [
    "df_train, df_val = (\n",
    "    train_test_split(df, test_size=0.2, random_state=42)\n",
    ")"
   ]
  },
  {
   "cell_type": "code",
   "execution_count": 11,
   "id": "b7c7c2fa",
   "metadata": {},
   "outputs": [
    {
     "name": "stdout",
     "output_type": "stream",
     "text": [
      "mean(y_sur_train) = 0.866\n",
      "mean(y_sur_val) = 0.869\n",
      "mean(y_value_train) = 141.005\n",
      "mean(y_value_val) = 141.911\n"
     ]
    }
   ],
   "source": [
    "print(f'mean(y_sur_train) = {df_train[\"Fort Survived?\"].mean():.3f}')\n",
    "print(f'mean(y_sur_val) = {df_val[\"Fort Survived?\"].mean():.3f}')\n",
    "print(f'mean(y_value_train) = {df_train[\"Fort Value\"].mean():.3f}')\n",
    "print(f'mean(y_value_val) = {df_val[\"Fort Value\"].mean():.3f}')"
   ]
  },
  {
   "cell_type": "markdown",
   "id": "a9a620be",
   "metadata": {},
   "source": [
    "## Hypothesis. Condition to survive - Brewers + Farmers >= 3"
   ]
  },
  {
   "cell_type": "code",
   "execution_count": 12,
   "id": "0e2c81a8",
   "metadata": {},
   "outputs": [],
   "source": [
    "farmers_brewers_stats = df_train.groupby('farmers_plus_brewers')['Fort Survived?'].agg(['mean', 'count']).reset_index()"
   ]
  },
  {
   "cell_type": "code",
   "execution_count": 13,
   "id": "c6ce2cb3",
   "metadata": {},
   "outputs": [
    {
     "data": {
      "text/html": [
       "<div>\n",
       "<style scoped>\n",
       "    .dataframe tbody tr th:only-of-type {\n",
       "        vertical-align: middle;\n",
       "    }\n",
       "\n",
       "    .dataframe tbody tr th {\n",
       "        vertical-align: top;\n",
       "    }\n",
       "\n",
       "    .dataframe thead th {\n",
       "        text-align: right;\n",
       "    }\n",
       "</style>\n",
       "<table border=\"1\" class=\"dataframe\">\n",
       "  <thead>\n",
       "    <tr style=\"text-align: right;\">\n",
       "      <th></th>\n",
       "      <th>farmers_plus_brewers</th>\n",
       "      <th>mean</th>\n",
       "      <th>count</th>\n",
       "    </tr>\n",
       "  </thead>\n",
       "  <tbody>\n",
       "    <tr>\n",
       "      <th>0</th>\n",
       "      <td>0</td>\n",
       "      <td>0.036542</td>\n",
       "      <td>1122</td>\n",
       "    </tr>\n",
       "    <tr>\n",
       "      <th>1</th>\n",
       "      <td>1</td>\n",
       "      <td>0.357498</td>\n",
       "      <td>4621</td>\n",
       "    </tr>\n",
       "    <tr>\n",
       "      <th>2</th>\n",
       "      <td>2</td>\n",
       "      <td>0.708633</td>\n",
       "      <td>9047</td>\n",
       "    </tr>\n",
       "    <tr>\n",
       "      <th>3</th>\n",
       "      <td>3</td>\n",
       "      <td>0.998751</td>\n",
       "      <td>11208</td>\n",
       "    </tr>\n",
       "    <tr>\n",
       "      <th>4</th>\n",
       "      <td>4</td>\n",
       "      <td>0.999707</td>\n",
       "      <td>10246</td>\n",
       "    </tr>\n",
       "    <tr>\n",
       "      <th>5</th>\n",
       "      <td>5</td>\n",
       "      <td>1.000000</td>\n",
       "      <td>7381</td>\n",
       "    </tr>\n",
       "    <tr>\n",
       "      <th>6</th>\n",
       "      <td>6</td>\n",
       "      <td>0.999745</td>\n",
       "      <td>3919</td>\n",
       "    </tr>\n",
       "    <tr>\n",
       "      <th>7</th>\n",
       "      <td>7</td>\n",
       "      <td>1.000000</td>\n",
       "      <td>1721</td>\n",
       "    </tr>\n",
       "    <tr>\n",
       "      <th>8</th>\n",
       "      <td>8</td>\n",
       "      <td>1.000000</td>\n",
       "      <td>551</td>\n",
       "    </tr>\n",
       "    <tr>\n",
       "      <th>9</th>\n",
       "      <td>9</td>\n",
       "      <td>1.000000</td>\n",
       "      <td>147</td>\n",
       "    </tr>\n",
       "    <tr>\n",
       "      <th>10</th>\n",
       "      <td>10</td>\n",
       "      <td>1.000000</td>\n",
       "      <td>39</td>\n",
       "    </tr>\n",
       "    <tr>\n",
       "      <th>11</th>\n",
       "      <td>11</td>\n",
       "      <td>1.000000</td>\n",
       "      <td>2</td>\n",
       "    </tr>\n",
       "  </tbody>\n",
       "</table>\n",
       "</div>"
      ],
      "text/plain": [
       "    farmers_plus_brewers      mean  count\n",
       "0                      0  0.036542   1122\n",
       "1                      1  0.357498   4621\n",
       "2                      2  0.708633   9047\n",
       "3                      3  0.998751  11208\n",
       "4                      4  0.999707  10246\n",
       "5                      5  1.000000   7381\n",
       "6                      6  0.999745   3919\n",
       "7                      7  1.000000   1721\n",
       "8                      8  1.000000    551\n",
       "9                      9  1.000000    147\n",
       "10                    10  1.000000     39\n",
       "11                    11  1.000000      2"
      ]
     },
     "execution_count": 13,
     "metadata": {},
     "output_type": "execute_result"
    }
   ],
   "source": [
    "farmers_brewers_stats"
   ]
  },
  {
   "cell_type": "markdown",
   "id": "4c0df071",
   "metadata": {},
   "source": [
    "## Consider only cases with Brewers + Farmers >= 3"
   ]
  },
  {
   "cell_type": "code",
   "execution_count": 14,
   "id": "a0cd1050",
   "metadata": {},
   "outputs": [],
   "source": [
    "df_train = df_train[df_train['farmers_plus_brewers'] >= 3]\n",
    "df_val = df_val[df_val['farmers_plus_brewers'] >= 3]"
   ]
  },
  {
   "cell_type": "markdown",
   "id": "8652585e",
   "metadata": {},
   "source": [
    "Check that train/val proportion is still 4 to 1"
   ]
  },
  {
   "cell_type": "code",
   "execution_count": 15,
   "id": "8edeabdb",
   "metadata": {},
   "outputs": [
    {
     "data": {
      "text/plain": [
       "0.20258152173913044"
      ]
     },
     "execution_count": 15,
     "metadata": {},
     "output_type": "execute_result"
    }
   ],
   "source": [
    "df_val.shape[0] / (df_val.shape[0] + df_train.shape[0])"
   ]
  },
  {
   "cell_type": "code",
   "execution_count": 16,
   "id": "4b45dfd0",
   "metadata": {},
   "outputs": [
    {
     "data": {
      "text/plain": [
       "(35214, 21)"
      ]
     },
     "execution_count": 16,
     "metadata": {},
     "output_type": "execute_result"
    }
   ],
   "source": [
    "df_train.shape"
   ]
  },
  {
   "cell_type": "markdown",
   "id": "3a077674",
   "metadata": {},
   "source": [
    "## Fit the model"
   ]
  },
  {
   "cell_type": "markdown",
   "id": "12796c7a",
   "metadata": {},
   "source": [
    "Target distribution"
   ]
  },
  {
   "cell_type": "code",
   "execution_count": 32,
   "id": "6780b663",
   "metadata": {},
   "outputs": [
    {
     "data": {
      "text/plain": [
       "<AxesSubplot:xlabel='Fort Value'>"
      ]
     },
     "execution_count": 32,
     "metadata": {},
     "output_type": "execute_result"
    },
    {
     "data": {
      "image/png": "[encoded data removed]",
      "text/plain": [
       "<Figure size 432x288 with 1 Axes>"
      ]
     },
     "metadata": {
      "needs_background": "light"
     },
     "output_type": "display_data"
    }
   ],
   "source": [
    "sns.boxplot(x=df_train['Fort Value'])"
   ]
  },
  {
   "cell_type": "code",
   "execution_count": 36,
   "id": "6e995edc",
   "metadata": {},
   "outputs": [],
   "source": [
    "lgb.LGBMRegressor?"
   ]
  },
  {
   "cell_type": "code",
   "execution_count": 47,
   "id": "2f5a1924",
   "metadata": {},
   "outputs": [],
   "source": [
    "model = lgb.LGBMRegressor(\n",
    "    max_depth=5\n",
    ")"
   ]
  },
  {
   "cell_type": "code",
   "execution_count": 48,
   "id": "c6249992",
   "metadata": {},
   "outputs": [
    {
     "name": "stdout",
     "output_type": "stream",
     "text": [
      "[1]\tvalid_0's rmse: 106.283\tvalid_0's l2: 11296.1\tvalid_1's rmse: 105.714\tvalid_1's l2: 11175.4\n",
      "[2]\tvalid_0's rmse: 100.564\tvalid_0's l2: 10113.2\tvalid_1's rmse: 99.9324\tvalid_1's l2: 9986.49\n",
      "[3]\tvalid_0's rmse: 95.6637\tvalid_0's l2: 9151.54\tvalid_1's rmse: 94.9618\tvalid_1's l2: 9017.74\n",
      "[4]\tvalid_0's rmse: 91.4962\tvalid_0's l2: 8371.55\tvalid_1's rmse: 90.759\tvalid_1's l2: 8237.19\n",
      "[5]\tvalid_0's rmse: 87.9582\tvalid_0's l2: 7736.65\tvalid_1's rmse: 87.1758\tvalid_1's l2: 7599.63\n",
      "[6]\tvalid_0's rmse: 84.9525\tvalid_0's l2: 7216.93\tvalid_1's rmse: 84.1524\tvalid_1's l2: 7081.62\n",
      "[7]\tvalid_0's rmse: 82.4164\tvalid_0's l2: 6792.46\tvalid_1's rmse: 81.6209\tvalid_1's l2: 6661.98\n",
      "[8]\tvalid_0's rmse: 80.3025\tvalid_0's l2: 6448.49\tvalid_1's rmse: 79.5199\tvalid_1's l2: 6323.41\n",
      "[9]\tvalid_0's rmse: 78.4997\tvalid_0's l2: 6162.2\tvalid_1's rmse: 77.7177\tvalid_1's l2: 6040.05\n",
      "[10]\tvalid_0's rmse: 76.9926\tvalid_0's l2: 5927.87\tvalid_1's rmse: 76.2098\tvalid_1's l2: 5807.93\n",
      "[11]\tvalid_0's rmse: 75.7176\tvalid_0's l2: 5733.16\tvalid_1's rmse: 74.9642\tvalid_1's l2: 5619.63\n",
      "[12]\tvalid_0's rmse: 74.607\tvalid_0's l2: 5566.2\tvalid_1's rmse: 73.89\tvalid_1's l2: 5459.74\n",
      "[13]\tvalid_0's rmse: 73.7026\tvalid_0's l2: 5432.07\tvalid_1's rmse: 73.0133\tvalid_1's l2: 5330.94\n",
      "[14]\tvalid_0's rmse: 72.9077\tvalid_0's l2: 5315.53\tvalid_1's rmse: 72.2476\tvalid_1's l2: 5219.72\n",
      "[15]\tvalid_0's rmse: 72.2552\tvalid_0's l2: 5220.82\tvalid_1's rmse: 71.6094\tvalid_1's l2: 5127.91\n",
      "[16]\tvalid_0's rmse: 71.6858\tvalid_0's l2: 5138.85\tvalid_1's rmse: 71.0597\tvalid_1's l2: 5049.48\n",
      "[17]\tvalid_0's rmse: 71.1912\tvalid_0's l2: 5068.18\tvalid_1's rmse: 70.6002\tvalid_1's l2: 4984.39\n",
      "[18]\tvalid_0's rmse: 70.7817\tvalid_0's l2: 5010.05\tvalid_1's rmse: 70.2204\tvalid_1's l2: 4930.9\n",
      "[19]\tvalid_0's rmse: 70.4074\tvalid_0's l2: 4957.21\tvalid_1's rmse: 69.8707\tvalid_1's l2: 4881.92\n",
      "[20]\tvalid_0's rmse: 70.0965\tvalid_0's l2: 4913.52\tvalid_1's rmse: 69.5703\tvalid_1's l2: 4840.03\n",
      "[21]\tvalid_0's rmse: 69.8206\tvalid_0's l2: 4874.92\tvalid_1's rmse: 69.3083\tvalid_1's l2: 4803.64\n",
      "[22]\tvalid_0's rmse: 69.5866\tvalid_0's l2: 4842.3\tvalid_1's rmse: 69.1085\tvalid_1's l2: 4775.99\n",
      "[23]\tvalid_0's rmse: 69.3787\tvalid_0's l2: 4813.41\tvalid_1's rmse: 68.9192\tvalid_1's l2: 4749.85\n",
      "[24]\tvalid_0's rmse: 69.2149\tvalid_0's l2: 4790.71\tvalid_1's rmse: 68.7787\tvalid_1's l2: 4730.51\n",
      "[25]\tvalid_0's rmse: 69.0476\tvalid_0's l2: 4767.57\tvalid_1's rmse: 68.6299\tvalid_1's l2: 4710.07\n",
      "[26]\tvalid_0's rmse: 68.8821\tvalid_0's l2: 4744.74\tvalid_1's rmse: 68.4907\tvalid_1's l2: 4690.98\n",
      "[27]\tvalid_0's rmse: 68.7372\tvalid_0's l2: 4724.8\tvalid_1's rmse: 68.3472\tvalid_1's l2: 4671.34\n",
      "[28]\tvalid_0's rmse: 68.622\tvalid_0's l2: 4708.98\tvalid_1's rmse: 68.2362\tvalid_1's l2: 4656.18\n",
      "[29]\tvalid_0's rmse: 68.5054\tvalid_0's l2: 4692.99\tvalid_1's rmse: 68.1299\tvalid_1's l2: 4641.69\n",
      "[30]\tvalid_0's rmse: 68.4077\tvalid_0's l2: 4679.61\tvalid_1's rmse: 68.0481\tvalid_1's l2: 4630.55\n",
      "[31]\tvalid_0's rmse: 68.2965\tvalid_0's l2: 4664.41\tvalid_1's rmse: 67.9625\tvalid_1's l2: 4618.91\n",
      "[32]\tvalid_0's rmse: 68.1807\tvalid_0's l2: 4648.61\tvalid_1's rmse: 67.8633\tvalid_1's l2: 4605.43\n",
      "[33]\tvalid_0's rmse: 68.1077\tvalid_0's l2: 4638.66\tvalid_1's rmse: 67.816\tvalid_1's l2: 4599.01\n",
      "[34]\tvalid_0's rmse: 68.0349\tvalid_0's l2: 4628.75\tvalid_1's rmse: 67.7788\tvalid_1's l2: 4593.97\n",
      "[35]\tvalid_0's rmse: 67.9426\tvalid_0's l2: 4616.19\tvalid_1's rmse: 67.7295\tvalid_1's l2: 4587.28\n",
      "[36]\tvalid_0's rmse: 67.8928\tvalid_0's l2: 4609.43\tvalid_1's rmse: 67.6825\tvalid_1's l2: 4580.92\n",
      "[37]\tvalid_0's rmse: 67.8353\tvalid_0's l2: 4601.63\tvalid_1's rmse: 67.6513\tvalid_1's l2: 4576.7\n",
      "[38]\tvalid_0's rmse: 67.7782\tvalid_0's l2: 4593.88\tvalid_1's rmse: 67.607\tvalid_1's l2: 4570.71\n",
      "[39]\tvalid_0's rmse: 67.7175\tvalid_0's l2: 4585.66\tvalid_1's rmse: 67.5632\tvalid_1's l2: 4564.79\n",
      "[40]\tvalid_0's rmse: 67.6442\tvalid_0's l2: 4575.74\tvalid_1's rmse: 67.5221\tvalid_1's l2: 4559.23\n",
      "[41]\tvalid_0's rmse: 67.5922\tvalid_0's l2: 4568.7\tvalid_1's rmse: 67.5164\tvalid_1's l2: 4558.46\n",
      "[42]\tvalid_0's rmse: 67.5498\tvalid_0's l2: 4562.97\tvalid_1's rmse: 67.4826\tvalid_1's l2: 4553.9\n",
      "[43]\tvalid_0's rmse: 67.493\tvalid_0's l2: 4555.31\tvalid_1's rmse: 67.4673\tvalid_1's l2: 4551.83\n",
      "[44]\tvalid_0's rmse: 67.4482\tvalid_0's l2: 4549.25\tvalid_1's rmse: 67.4544\tvalid_1's l2: 4550.1\n",
      "[45]\tvalid_0's rmse: 67.4039\tvalid_0's l2: 4543.29\tvalid_1's rmse: 67.4427\tvalid_1's l2: 4548.52\n",
      "[46]\tvalid_0's rmse: 67.3504\tvalid_0's l2: 4536.07\tvalid_1's rmse: 67.4163\tvalid_1's l2: 4544.96\n",
      "[47]\tvalid_0's rmse: 67.3178\tvalid_0's l2: 4531.68\tvalid_1's rmse: 67.3946\tvalid_1's l2: 4542.04\n",
      "[48]\tvalid_0's rmse: 67.283\tvalid_0's l2: 4527\tvalid_1's rmse: 67.381\tvalid_1's l2: 4540.2\n",
      "[49]\tvalid_0's rmse: 67.2386\tvalid_0's l2: 4521.03\tvalid_1's rmse: 67.3511\tvalid_1's l2: 4536.16\n",
      "[50]\tvalid_0's rmse: 67.2139\tvalid_0's l2: 4517.7\tvalid_1's rmse: 67.3397\tvalid_1's l2: 4534.63\n",
      "[51]\tvalid_0's rmse: 67.1843\tvalid_0's l2: 4513.72\tvalid_1's rmse: 67.3306\tvalid_1's l2: 4533.4\n",
      "[52]\tvalid_0's rmse: 67.1612\tvalid_0's l2: 4510.63\tvalid_1's rmse: 67.3215\tvalid_1's l2: 4532.18\n",
      "[53]\tvalid_0's rmse: 67.1263\tvalid_0's l2: 4505.93\tvalid_1's rmse: 67.296\tvalid_1's l2: 4528.75\n",
      "[54]\tvalid_0's rmse: 67.1051\tvalid_0's l2: 4503.1\tvalid_1's rmse: 67.2886\tvalid_1's l2: 4527.75\n",
      "[55]\tvalid_0's rmse: 67.0824\tvalid_0's l2: 4500.05\tvalid_1's rmse: 67.2819\tvalid_1's l2: 4526.86\n",
      "[56]\tvalid_0's rmse: 67.0594\tvalid_0's l2: 4496.97\tvalid_1's rmse: 67.2687\tvalid_1's l2: 4525.08\n",
      "[57]\tvalid_0's rmse: 67.03\tvalid_0's l2: 4493.02\tvalid_1's rmse: 67.2524\tvalid_1's l2: 4522.89\n",
      "[58]\tvalid_0's rmse: 67.003\tvalid_0's l2: 4489.4\tvalid_1's rmse: 67.2534\tvalid_1's l2: 4523.02\n",
      "[59]\tvalid_0's rmse: 66.9812\tvalid_0's l2: 4486.48\tvalid_1's rmse: 67.2554\tvalid_1's l2: 4523.29\n",
      "[60]\tvalid_0's rmse: 66.9552\tvalid_0's l2: 4483\tvalid_1's rmse: 67.2612\tvalid_1's l2: 4524.07\n",
      "[61]\tvalid_0's rmse: 66.9307\tvalid_0's l2: 4479.72\tvalid_1's rmse: 67.2658\tvalid_1's l2: 4524.69\n",
      "[62]\tvalid_0's rmse: 66.9125\tvalid_0's l2: 4477.28\tvalid_1's rmse: 67.2601\tvalid_1's l2: 4523.92\n",
      "[63]\tvalid_0's rmse: 66.8906\tvalid_0's l2: 4474.35\tvalid_1's rmse: 67.2614\tvalid_1's l2: 4524.1\n",
      "[64]\tvalid_0's rmse: 66.8722\tvalid_0's l2: 4471.89\tvalid_1's rmse: 67.2494\tvalid_1's l2: 4522.48\n",
      "[65]\tvalid_0's rmse: 66.8498\tvalid_0's l2: 4468.9\tvalid_1's rmse: 67.2717\tvalid_1's l2: 4525.48\n",
      "[66]\tvalid_0's rmse: 66.8284\tvalid_0's l2: 4466.03\tvalid_1's rmse: 67.2668\tvalid_1's l2: 4524.82\n",
      "[67]\tvalid_0's rmse: 66.8116\tvalid_0's l2: 4463.79\tvalid_1's rmse: 67.2574\tvalid_1's l2: 4523.56\n",
      "[68]\tvalid_0's rmse: 66.7876\tvalid_0's l2: 4460.58\tvalid_1's rmse: 67.2469\tvalid_1's l2: 4522.14\n",
      "[69]\tvalid_0's rmse: 66.7742\tvalid_0's l2: 4458.79\tvalid_1's rmse: 67.2378\tvalid_1's l2: 4520.92\n",
      "[70]\tvalid_0's rmse: 66.7529\tvalid_0's l2: 4455.95\tvalid_1's rmse: 67.2308\tvalid_1's l2: 4519.98\n",
      "[71]\tvalid_0's rmse: 66.7379\tvalid_0's l2: 4453.94\tvalid_1's rmse: 67.217\tvalid_1's l2: 4518.13\n",
      "[72]\tvalid_0's rmse: 66.7231\tvalid_0's l2: 4451.97\tvalid_1's rmse: 67.224\tvalid_1's l2: 4519.06\n",
      "[73]\tvalid_0's rmse: 66.7034\tvalid_0's l2: 4449.35\tvalid_1's rmse: 67.2256\tvalid_1's l2: 4519.28\n",
      "[74]\tvalid_0's rmse: 66.6841\tvalid_0's l2: 4446.77\tvalid_1's rmse: 67.22\tvalid_1's l2: 4518.53\n",
      "[75]\tvalid_0's rmse: 66.665\tvalid_0's l2: 4444.22\tvalid_1's rmse: 67.2432\tvalid_1's l2: 4521.65\n",
      "[76]\tvalid_0's rmse: 66.6519\tvalid_0's l2: 4442.47\tvalid_1's rmse: 67.2319\tvalid_1's l2: 4520.13\n",
      "[77]\tvalid_0's rmse: 66.6378\tvalid_0's l2: 4440.6\tvalid_1's rmse: 67.2303\tvalid_1's l2: 4519.92\n",
      "[78]\tvalid_0's rmse: 66.6211\tvalid_0's l2: 4438.37\tvalid_1's rmse: 67.2298\tvalid_1's l2: 4519.84\n",
      "[79]\tvalid_0's rmse: 66.6022\tvalid_0's l2: 4435.85\tvalid_1's rmse: 67.2188\tvalid_1's l2: 4518.37\n",
      "[80]\tvalid_0's rmse: 66.5896\tvalid_0's l2: 4434.17\tvalid_1's rmse: 67.2145\tvalid_1's l2: 4517.79\n",
      "[81]\tvalid_0's rmse: 66.5741\tvalid_0's l2: 4432.11\tvalid_1's rmse: 67.2304\tvalid_1's l2: 4519.92\n",
      "[82]\tvalid_0's rmse: 66.5635\tvalid_0's l2: 4430.7\tvalid_1's rmse: 67.2338\tvalid_1's l2: 4520.38\n",
      "[83]\tvalid_0's rmse: 66.5478\tvalid_0's l2: 4428.61\tvalid_1's rmse: 67.2199\tvalid_1's l2: 4518.52\n",
      "[84]\tvalid_0's rmse: 66.5347\tvalid_0's l2: 4426.86\tvalid_1's rmse: 67.2385\tvalid_1's l2: 4521.02\n",
      "[85]\tvalid_0's rmse: 66.5262\tvalid_0's l2: 4425.73\tvalid_1's rmse: 67.2426\tvalid_1's l2: 4521.57\n",
      "[86]\tvalid_0's rmse: 66.5167\tvalid_0's l2: 4424.47\tvalid_1's rmse: 67.2409\tvalid_1's l2: 4521.34\n",
      "[87]\tvalid_0's rmse: 66.5028\tvalid_0's l2: 4422.62\tvalid_1's rmse: 67.231\tvalid_1's l2: 4520\n",
      "[88]\tvalid_0's rmse: 66.4901\tvalid_0's l2: 4420.94\tvalid_1's rmse: 67.2445\tvalid_1's l2: 4521.82\n",
      "[89]\tvalid_0's rmse: 66.4737\tvalid_0's l2: 4418.76\tvalid_1's rmse: 67.2431\tvalid_1's l2: 4521.64\n",
      "[90]\tvalid_0's rmse: 66.461\tvalid_0's l2: 4417.06\tvalid_1's rmse: 67.2451\tvalid_1's l2: 4521.9\n",
      "[91]\tvalid_0's rmse: 66.4473\tvalid_0's l2: 4415.24\tvalid_1's rmse: 67.2423\tvalid_1's l2: 4521.53\n",
      "[92]\tvalid_0's rmse: 66.4283\tvalid_0's l2: 4412.72\tvalid_1's rmse: 67.2527\tvalid_1's l2: 4522.92\n",
      "[93]\tvalid_0's rmse: 66.4161\tvalid_0's l2: 4411.1\tvalid_1's rmse: 67.2596\tvalid_1's l2: 4523.86\n",
      "[94]\tvalid_0's rmse: 66.4073\tvalid_0's l2: 4409.93\tvalid_1's rmse: 67.2511\tvalid_1's l2: 4522.71\n",
      "[95]\tvalid_0's rmse: 66.3992\tvalid_0's l2: 4408.86\tvalid_1's rmse: 67.2544\tvalid_1's l2: 4523.16\n",
      "[96]\tvalid_0's rmse: 66.3832\tvalid_0's l2: 4406.73\tvalid_1's rmse: 67.252\tvalid_1's l2: 4522.83\n",
      "[97]\tvalid_0's rmse: 66.3741\tvalid_0's l2: 4405.52\tvalid_1's rmse: 67.252\tvalid_1's l2: 4522.83\n",
      "[98]\tvalid_0's rmse: 66.3641\tvalid_0's l2: 4404.2\tvalid_1's rmse: 67.2528\tvalid_1's l2: 4522.94\n",
      "[99]\tvalid_0's rmse: 66.3469\tvalid_0's l2: 4401.91\tvalid_1's rmse: 67.2466\tvalid_1's l2: 4522.1\n",
      "[100]\tvalid_0's rmse: 66.3377\tvalid_0's l2: 4400.69\tvalid_1's rmse: 67.2448\tvalid_1's l2: 4521.86\n"
     ]
    },
    {
     "data": {
      "text/html": [
       "<style>#sk-container-id-6 {color: black;background-color: white;}#sk-container-id-6 pre{padding: 0;}#sk-container-id-6 div.sk-toggleable {background-color: white;}#sk-container-id-6 label.sk-toggleable__label {cursor: pointer;display: block;width: 100%;margin-bottom: 0;padding: 0.3em;box-sizing: border-box;text-align: center;}#sk-container-id-6 label.sk-toggleable__label-arrow:before {content: \"▸\";float: left;margin-right: 0.25em;color: #696969;}#sk-container-id-6 label.sk-toggleable__label-arrow:hover:before {color: black;}#sk-container-id-6 div.sk-estimator:hover label.sk-toggleable__label-arrow:before {color: black;}#sk-container-id-6 div.sk-toggleable__content {max-height: 0;max-width: 0;overflow: hidden;text-align: left;background-color: #f0f8ff;}#sk-container-id-6 div.sk-toggleable__content pre {margin: 0.2em;color: black;border-radius: 0.25em;background-color: #f0f8ff;}#sk-container-id-6 input.sk-toggleable__control:checked~div.sk-toggleable__content {max-height: 200px;max-width: 100%;overflow: auto;}#sk-container-id-6 input.sk-toggleable__control:checked~label.sk-toggleable__label-arrow:before {content: \"▾\";}#sk-container-id-6 div.sk-estimator input.sk-toggleable__control:checked~label.sk-toggleable__label {background-color: #d4ebff;}#sk-container-id-6 div.sk-label input.sk-toggleable__control:checked~label.sk-toggleable__label {background-color: #d4ebff;}#sk-container-id-6 input.sk-hidden--visually {border: 0;clip: rect(1px 1px 1px 1px);clip: rect(1px, 1px, 1px, 1px);height: 1px;margin: -1px;overflow: hidden;padding: 0;position: absolute;width: 1px;}#sk-container-id-6 div.sk-estimator {font-family: monospace;background-color: #f0f8ff;border: 1px dotted black;border-radius: 0.25em;box-sizing: border-box;margin-bottom: 0.5em;}#sk-container-id-6 div.sk-estimator:hover {background-color: #d4ebff;}#sk-container-id-6 div.sk-parallel-item::after {content: \"\";width: 100%;border-bottom: 1px solid gray;flex-grow: 1;}#sk-container-id-6 div.sk-label:hover label.sk-toggleable__label {background-color: #d4ebff;}#sk-container-id-6 div.sk-serial::before {content: \"\";position: absolute;border-left: 1px solid gray;box-sizing: border-box;top: 0;bottom: 0;left: 50%;z-index: 0;}#sk-container-id-6 div.sk-serial {display: flex;flex-direction: column;align-items: center;background-color: white;padding-right: 0.2em;padding-left: 0.2em;position: relative;}#sk-container-id-6 div.sk-item {position: relative;z-index: 1;}#sk-container-id-6 div.sk-parallel {display: flex;align-items: stretch;justify-content: center;background-color: white;position: relative;}#sk-container-id-6 div.sk-item::before, #sk-container-id-6 div.sk-parallel-item::before {content: \"\";position: absolute;border-left: 1px solid gray;box-sizing: border-box;top: 0;bottom: 0;left: 50%;z-index: -1;}#sk-container-id-6 div.sk-parallel-item {display: flex;flex-direction: column;z-index: 1;position: relative;background-color: white;}#sk-container-id-6 div.sk-parallel-item:first-child::after {align-self: flex-end;width: 50%;}#sk-container-id-6 div.sk-parallel-item:last-child::after {align-self: flex-start;width: 50%;}#sk-container-id-6 div.sk-parallel-item:only-child::after {width: 0;}#sk-container-id-6 div.sk-dashed-wrapped {border: 1px dashed gray;margin: 0 0.4em 0.5em 0.4em;box-sizing: border-box;padding-bottom: 0.4em;background-color: white;}#sk-container-id-6 div.sk-label label {font-family: monospace;font-weight: bold;display: inline-block;line-height: 1.2em;}#sk-container-id-6 div.sk-label-container {text-align: center;}#sk-container-id-6 div.sk-container {/* jupyter's `normalize.less` sets `[hidden] { display: none; }` but bootstrap.min.css set `[hidden] { display: none !important; }` so we also need the `!important` here to be able to override the default hidden behavior on the sphinx rendered scikit-learn.org. See: https://github.com/scikit-learn/scikit-learn/issues/21755 */display: inline-block !important;position: relative;}#sk-container-id-6 div.sk-text-repr-fallback {display: none;}</style><div id=\"sk-container-id-6\" class=\"sk-top-container\"><div class=\"sk-text-repr-fallback\"><pre>LGBMRegressor(max_depth=5)</pre><b>In a Jupyter environment, please rerun this cell to show the HTML representation or trust the notebook. <br />On GitHub, the HTML representation is unable to render, please try loading this page with nbviewer.org.</b></div><div class=\"sk-container\" hidden><div class=\"sk-item\"><div class=\"sk-estimator sk-toggleable\"><input class=\"sk-toggleable__control sk-hidden--visually\" id=\"sk-estimator-id-6\" type=\"checkbox\" checked><label for=\"sk-estimator-id-6\" class=\"sk-toggleable__label sk-toggleable__label-arrow\">LGBMRegressor</label><div class=\"sk-toggleable__content\"><pre>LGBMRegressor(max_depth=5)</pre></div></div></div></div></div>"
      ],
      "text/plain": [
       "LGBMRegressor(max_depth=5)"
      ]
     },
     "execution_count": 48,
     "metadata": {},
     "output_type": "execute_result"
    }
   ],
   "source": [
    "model.fit(df_train[features], df_train['Fort Value'], \n",
    "          eval_set=[\n",
    "              (df_train[features], df_train['Fort Value']), \n",
    "              (df_val[features], df_val['Fort Value'])],\n",
    "          eval_metric='rmse'\n",
    ")"
   ]
  },
  {
   "cell_type": "markdown",
   "id": "93244f7f",
   "metadata": {},
   "source": [
    "## Genetic search"
   ]
  },
  {
   "cell_type": "code",
   "execution_count": 264,
   "id": "7bbf3866",
   "metadata": {},
   "outputs": [],
   "source": [
    "def get_first_gen(n_samples):\n",
    "    n_feat = 7\n",
    "    res = np.empty((n_samples, n_feat))\n",
    "    for i in range(n_samples):\n",
    "        while True:\n",
    "            m_left = 13\n",
    "            order = np.random.choice(np.arange(n_feat), size=n_feat, replace=False)\n",
    "            for j in order:\n",
    "                res[i, j] = np.random.randint(m_left + 1)\n",
    "                m_left -= res[i, j]\n",
    "            res[i, order[-1]] = m_left\n",
    "            if res[i, 3] + res[i, 4] >= 3:\n",
    "                break\n",
    "    return res"
   ]
  },
  {
   "cell_type": "code",
   "execution_count": 271,
   "id": "681eeab2",
   "metadata": {},
   "outputs": [],
   "source": [
    "def mutate(x, n_childs, n_changes):\n",
    "    n_feats = 7\n",
    "    res = np.empty((x.shape[0] * (n_childs + 1), x.shape[1]))\n",
    "    for i in range(len(x)):\n",
    "        for j in range(n_childs):\n",
    "            res[i * n_childs + j] = x[i]\n",
    "            for _ in range(n_changes):\n",
    "                k, l = list(np.random.choice(np.arange(n_feats), size=2, replace=False))\n",
    "                if res[i * n_childs + j, l] == 0:\n",
    "                    continue\n",
    "                res[i * n_childs + j, k] += 1\n",
    "                res[i * n_childs + j, l] -= 1\n",
    "                if res[i * n_childs + j, 3] + res[i * n_childs + j, 4] < 3:\n",
    "                    res[i * n_childs + j, k] -= 1\n",
    "                    res[i * n_childs + j, l] += 1\n",
    "    res[x.shape[0] * n_childs:] = x\n",
    "    return res"
   ]
  },
  {
   "cell_type": "code",
   "execution_count": 283,
   "id": "70dd5e6c",
   "metadata": {},
   "outputs": [
    {
     "name": "stdout",
     "output_type": "stream",
     "text": [
      "Best predicted = 506.53, top combination = [6. 2. 0. 0. 4. 0. 0.]\n",
      "Best predicted = 563.28, top combination = [6. 2. 0. 1. 2. 0. 2.]\n",
      "Best predicted = 592.92, top combination = [6. 2. 0. 1. 2. 1. 1.]\n",
      "Best predicted = 592.92, top combination = [6. 2. 0. 1. 2. 1. 1.]\n",
      "Best predicted = 592.92, top combination = [6. 2. 0. 1. 2. 1. 1.]\n",
      "Best predicted = 592.92, top combination = [6. 2. 0. 1. 2. 1. 1.]\n",
      "Best predicted = 592.92, top combination = [6. 2. 0. 1. 2. 1. 1.]\n",
      "Best predicted = 592.92, top combination = [6. 2. 0. 1. 2. 1. 1.]\n",
      "Best predicted = 592.92, top combination = [6. 2. 0. 1. 2. 1. 1.]\n",
      "Best predicted = 592.92, top combination = [6. 2. 0. 1. 2. 1. 1.]\n",
      "Best predicted = 592.92, top combination = [6. 2. 0. 1. 2. 1. 1.]\n",
      "Best predicted = 592.92, top combination = [6. 2. 0. 1. 2. 1. 1.]\n",
      "Best predicted = 592.92, top combination = [6. 2. 0. 1. 2. 1. 1.]\n",
      "Best predicted = 592.92, top combination = [6. 2. 0. 1. 2. 1. 1.]\n",
      "Best predicted = 592.92, top combination = [6. 2. 0. 1. 2. 1. 1.]\n",
      "Best predicted = 592.92, top combination = [6. 2. 0. 1. 2. 1. 1.]\n",
      "Best predicted = 592.92, top combination = [6. 2. 0. 1. 2. 1. 1.]\n",
      "Best predicted = 592.92, top combination = [6. 2. 0. 1. 2. 1. 1.]\n",
      "Best predicted = 592.92, top combination = [6. 2. 0. 1. 2. 1. 1.]\n",
      "Best predicted = 592.92, top combination = [6. 2. 0. 1. 2. 1. 1.]\n"
     ]
    }
   ],
   "source": [
    "x = get_first_gen(100)\n",
    "for _ in range(20):\n",
    "    x = mutate(x, 10, np.random.choice(np.arange(8)))\n",
    "    y_pred = model.predict(x)\n",
    "    idx = np.argsort(y_pred)[::-1][:10]\n",
    "    print(f'Best predicted = {max(y_pred):.2f}, top combination = {x[idx[0]]}')\n",
    "    top = x[idx[0]]\n",
    "    x = x[idx]"
   ]
  },
  {
   "cell_type": "code",
   "execution_count": 273,
   "id": "9d16a224",
   "metadata": {},
   "outputs": [
    {
     "name": "stdout",
     "output_type": "stream",
     "text": [
      "Miners sent 6\n",
      "Smiths sent 2\n",
      "Woodcutters sent 0\n",
      "Farmers sent 1\n",
      "Brewers sent 2\n",
      "Warriors sent 1\n",
      "Crafters sent 1\n"
     ]
    }
   ],
   "source": [
    "for i, f in enumerate(features):\n",
    "    print(features[i], f'{top[i]:.0f}')"
   ]
  }
 ],
 "metadata": {
  "kernelspec": {
   "display_name": "Python 3 (ipykernel)",
   "language": "python",
   "name": "python3"
  },
  "language_info": {
   "codemirror_mode": {
    "name": "ipython",
    "version": 3
   },
   "file_extension": ".py",
   "mimetype": "text/x-python",
   "name": "python",
   "nbconvert_exporter": "python",
   "pygments_lexer": "ipython3",
   "version": "3.9.12"
  }
 },
 "nbformat": 4,
 "nbformat_minor": 5
}
