{
 "cells": [
  {
   "cell_type": "markdown",
   "metadata": {},
   "source": [
    "# HW1 - baseline\n",
    "\n",
    "[![Open In Colab](https://colab.research.google.com/assets/colab-badge.svg)](https://colab.research.google.com/github/adasegroup/NEUROML2020/blob/seminar1/seminar1/hw1-baseline.ipynb)\n",
    "\n",
    "In this notebook we handle the homework data in order to predict motion over rest using EEG"
   ]
  },
  {
   "cell_type": "code",
   "execution_count": 1,
   "metadata": {},
   "outputs": [],
   "source": [
    "# For Colab only\n",
    "!pip install mne\n",
    "!wget https://raw.githubusercontent.com/adasegroup/NEUROML2020/seminar1/seminar1/train.csv\n",
    "!wget https://raw.githubusercontent.com/adasegroup/NEUROML2020/seminar1/seminar1/test.csv"
   ]
  },
  {
   "cell_type": "code",
   "execution_count": 2,
   "metadata": {},
   "outputs": [],
   "source": [
    "import pandas as pd\n",
    "import numpy as np\n",
    "import matplotlib.pyplot as plt\n",
    "import seaborn as sns\n",
    "\n",
    "from mne.time_frequency import psd_array_multitaper\n",
    "\n",
    "from sklearn.model_selection import train_test_split\n",
    "from sklearn.preprocessing import StandardScaler\n",
    "from sklearn.linear_model import LogisticRegression\n",
    "from sklearn.metrics import roc_auc_score\n",
    "from sklearn.manifold import TSNE\n",
    "\n",
    "%matplotlib inline"
   ]
  },
  {
   "cell_type": "code",
   "execution_count": 3,
   "metadata": {},
   "outputs": [],
   "source": [
    "df_train = pd.read_csv('train.csv')\n",
    "df_test = pd.read_csv('test.csv')"
   ]
  },
  {
   "cell_type": "code",
   "execution_count": 4,
   "metadata": {},
   "outputs": [
    {
     "data": {
      "text/html": [
       "<div>\n",
       "<style scoped>\n",
       "    .dataframe tbody tr th:only-of-type {\n",
       "        vertical-align: middle;\n",
       "    }\n",
       "\n",
       "    .dataframe tbody tr th {\n",
       "        vertical-align: top;\n",
       "    }\n",
       "\n",
       "    .dataframe thead th {\n",
       "        text-align: right;\n",
       "    }\n",
       "</style>\n",
       "<table border=\"1\" class=\"dataframe\">\n",
       "  <thead>\n",
       "    <tr style=\"text-align: right;\">\n",
       "      <th></th>\n",
       "      <th>time</th>\n",
       "      <th>condition</th>\n",
       "      <th>epoch</th>\n",
       "      <th>C3</th>\n",
       "      <th>Cz</th>\n",
       "      <th>C4</th>\n",
       "      <th>Fp1</th>\n",
       "      <th>Fp2</th>\n",
       "      <th>F7</th>\n",
       "      <th>F3</th>\n",
       "      <th>...</th>\n",
       "      <th>F8</th>\n",
       "      <th>T7</th>\n",
       "      <th>T8</th>\n",
       "      <th>P7</th>\n",
       "      <th>P3</th>\n",
       "      <th>Pz</th>\n",
       "      <th>P4</th>\n",
       "      <th>P8</th>\n",
       "      <th>O1</th>\n",
       "      <th>O2</th>\n",
       "    </tr>\n",
       "  </thead>\n",
       "  <tbody>\n",
       "    <tr>\n",
       "      <th>0</th>\n",
       "      <td>0</td>\n",
       "      <td>1</td>\n",
       "      <td>0</td>\n",
       "      <td>-5.885714</td>\n",
       "      <td>-2.533107</td>\n",
       "      <td>9.866895</td>\n",
       "      <td>7.962973</td>\n",
       "      <td>5.694433</td>\n",
       "      <td>23.638605</td>\n",
       "      <td>27.899784</td>\n",
       "      <td>...</td>\n",
       "      <td>23.588723</td>\n",
       "      <td>12.178548</td>\n",
       "      <td>0.685809</td>\n",
       "      <td>-4.887397</td>\n",
       "      <td>-10.646985</td>\n",
       "      <td>-14.735646</td>\n",
       "      <td>-8.729323</td>\n",
       "      <td>-0.562578</td>\n",
       "      <td>-17.055458</td>\n",
       "      <td>-3.616732</td>\n",
       "    </tr>\n",
       "    <tr>\n",
       "      <th>1</th>\n",
       "      <td>1</td>\n",
       "      <td>1</td>\n",
       "      <td>0</td>\n",
       "      <td>-7.999715</td>\n",
       "      <td>-16.916729</td>\n",
       "      <td>-11.924855</td>\n",
       "      <td>17.955477</td>\n",
       "      <td>8.526994</td>\n",
       "      <td>56.635981</td>\n",
       "      <td>28.508435</td>\n",
       "      <td>...</td>\n",
       "      <td>1.045533</td>\n",
       "      <td>14.656061</td>\n",
       "      <td>-4.119778</td>\n",
       "      <td>-4.632381</td>\n",
       "      <td>-17.980657</td>\n",
       "      <td>-23.456960</td>\n",
       "      <td>-12.960684</td>\n",
       "      <td>-9.639784</td>\n",
       "      <td>-20.233549</td>\n",
       "      <td>-1.229811</td>\n",
       "    </tr>\n",
       "    <tr>\n",
       "      <th>2</th>\n",
       "      <td>2</td>\n",
       "      <td>1</td>\n",
       "      <td>0</td>\n",
       "      <td>-6.727283</td>\n",
       "      <td>-15.979567</td>\n",
       "      <td>-11.114195</td>\n",
       "      <td>17.183478</td>\n",
       "      <td>4.497028</td>\n",
       "      <td>43.914130</td>\n",
       "      <td>10.079754</td>\n",
       "      <td>...</td>\n",
       "      <td>-14.741630</td>\n",
       "      <td>14.793562</td>\n",
       "      <td>-6.624813</td>\n",
       "      <td>-3.402757</td>\n",
       "      <td>-10.269473</td>\n",
       "      <td>-18.736144</td>\n",
       "      <td>-3.579046</td>\n",
       "      <td>-0.045658</td>\n",
       "      <td>-14.089755</td>\n",
       "      <td>2.453398</td>\n",
       "    </tr>\n",
       "    <tr>\n",
       "      <th>3</th>\n",
       "      <td>3</td>\n",
       "      <td>1</td>\n",
       "      <td>0</td>\n",
       "      <td>6.819390</td>\n",
       "      <td>-0.204905</td>\n",
       "      <td>10.090124</td>\n",
       "      <td>20.265222</td>\n",
       "      <td>7.843006</td>\n",
       "      <td>36.250611</td>\n",
       "      <td>13.291199</td>\n",
       "      <td>...</td>\n",
       "      <td>-7.135541</td>\n",
       "      <td>21.723418</td>\n",
       "      <td>-2.276825</td>\n",
       "      <td>2.066859</td>\n",
       "      <td>4.325365</td>\n",
       "      <td>-2.803322</td>\n",
       "      <td>8.835114</td>\n",
       "      <td>13.878945</td>\n",
       "      <td>-5.772410</td>\n",
       "      <td>7.657873</td>\n",
       "    </tr>\n",
       "    <tr>\n",
       "      <th>4</th>\n",
       "      <td>4</td>\n",
       "      <td>1</td>\n",
       "      <td>0</td>\n",
       "      <td>13.129486</td>\n",
       "      <td>-5.817193</td>\n",
       "      <td>5.040633</td>\n",
       "      <td>19.462210</td>\n",
       "      <td>9.634234</td>\n",
       "      <td>42.311729</td>\n",
       "      <td>20.641012</td>\n",
       "      <td>...</td>\n",
       "      <td>0.015602</td>\n",
       "      <td>19.703190</td>\n",
       "      <td>3.739076</td>\n",
       "      <td>2.714350</td>\n",
       "      <td>3.251047</td>\n",
       "      <td>-3.631448</td>\n",
       "      <td>3.212956</td>\n",
       "      <td>4.635574</td>\n",
       "      <td>-5.045448</td>\n",
       "      <td>5.086024</td>\n",
       "    </tr>\n",
       "  </tbody>\n",
       "</table>\n",
       "<p>5 rows × 22 columns</p>\n",
       "</div>"
      ],
      "text/plain": [
       "   time  condition  epoch         C3         Cz         C4        Fp1  \\\n",
       "0     0          1      0  -5.885714  -2.533107   9.866895   7.962973   \n",
       "1     1          1      0  -7.999715 -16.916729 -11.924855  17.955477   \n",
       "2     2          1      0  -6.727283 -15.979567 -11.114195  17.183478   \n",
       "3     3          1      0   6.819390  -0.204905  10.090124  20.265222   \n",
       "4     4          1      0  13.129486  -5.817193   5.040633  19.462210   \n",
       "\n",
       "        Fp2         F7         F3  ...         F8         T7        T8  \\\n",
       "0  5.694433  23.638605  27.899784  ...  23.588723  12.178548  0.685809   \n",
       "1  8.526994  56.635981  28.508435  ...   1.045533  14.656061 -4.119778   \n",
       "2  4.497028  43.914130  10.079754  ... -14.741630  14.793562 -6.624813   \n",
       "3  7.843006  36.250611  13.291199  ...  -7.135541  21.723418 -2.276825   \n",
       "4  9.634234  42.311729  20.641012  ...   0.015602  19.703190  3.739076   \n",
       "\n",
       "         P7         P3         Pz         P4         P8         O1        O2  \n",
       "0 -4.887397 -10.646985 -14.735646  -8.729323  -0.562578 -17.055458 -3.616732  \n",
       "1 -4.632381 -17.980657 -23.456960 -12.960684  -9.639784 -20.233549 -1.229811  \n",
       "2 -3.402757 -10.269473 -18.736144  -3.579046  -0.045658 -14.089755  2.453398  \n",
       "3  2.066859   4.325365  -2.803322   8.835114  13.878945  -5.772410  7.657873  \n",
       "4  2.714350   3.251047  -3.631448   3.212956   4.635574  -5.045448  5.086024  \n",
       "\n",
       "[5 rows x 22 columns]"
      ]
     },
     "execution_count": 4,
     "metadata": {},
     "output_type": "execute_result"
    }
   ],
   "source": [
    "df_train.head()"
   ]
  },
  {
   "cell_type": "code",
   "execution_count": 5,
   "metadata": {},
   "outputs": [],
   "source": [
    "ch_names = df_train.columns[3:]"
   ]
  },
  {
   "cell_type": "code",
   "execution_count": 6,
   "metadata": {},
   "outputs": [],
   "source": [
    "epochs = df_train['epoch'].unique()"
   ]
  },
  {
   "cell_type": "code",
   "execution_count": 7,
   "metadata": {},
   "outputs": [
    {
     "data": {
      "text/plain": [
       "array([  0,   2,   6,   8,  11,  13,  15,  16,  17,  18,  19,  20,  21,\n",
       "        22,  23,  24,  25,  26,  29,  30,  31,  32,  33,  34,  36,  37,\n",
       "        38,  39,  42,  43,  44,  46,  47,  48,  49,  50,  51,  52,  53,\n",
       "        54,  55,  56,  58,  60,  61,  62,  64,  65,  66,  67,  68,  69,\n",
       "        74,  77,  79,  80,  81,  86,  87,  88,  89,  90,  91,  93,  95,\n",
       "        96,  97,  99, 101, 102, 105, 107, 109, 110, 111, 113, 115, 117,\n",
       "       118, 126, 127, 128, 129, 131, 134, 135, 136, 137, 138, 139, 141,\n",
       "       142, 143, 144, 145, 147, 151, 152, 154, 155, 156, 157, 158, 159,\n",
       "       160, 162, 164, 166, 167, 169, 171, 172, 173, 174, 175, 176, 177,\n",
       "       181, 182, 184, 185, 187, 192, 193, 194, 196, 197, 200, 201, 202,\n",
       "       204, 205, 210, 212, 216, 217, 221, 222, 223, 225, 226, 227, 228,\n",
       "       230, 231, 233, 234, 235, 237, 239, 240, 241, 244, 245, 246, 248,\n",
       "       250, 253, 254, 255, 261, 262, 263, 265, 268, 269, 270, 276, 277,\n",
       "       279, 281, 283, 285, 287, 290, 292, 293, 294, 297, 298])"
      ]
     },
     "execution_count": 7,
     "metadata": {},
     "output_type": "execute_result"
    }
   ],
   "source": [
    "epochs"
   ]
  },
  {
   "cell_type": "code",
   "execution_count": 8,
   "metadata": {},
   "outputs": [],
   "source": [
    "def get_target(df):\n",
    "    return df.drop_duplicates('epoch')[['epoch', 'condition']].reset_index(drop=True)"
   ]
  },
  {
   "cell_type": "markdown",
   "metadata": {},
   "source": [
    "## Idea for feature engineering"
   ]
  },
  {
   "cell_type": "code",
   "execution_count": 9,
   "metadata": {},
   "outputs": [
    {
     "data": {
      "text/plain": [
       "<matplotlib.axes._subplots.AxesSubplot at 0x7fdf8d8e2210>"
      ]
     },
     "execution_count": 9,
     "metadata": {},
     "output_type": "execute_result"
    },
    {
     "data": {
      "image/png": "[encoded data removed]",
      "text/plain": [
       "<Figure size 432x288 with 1 Axes>"
      ]
     },
     "metadata": {
      "needs_background": "light"
     },
     "output_type": "display_data"
    }
   ],
   "source": [
    "df_train[df_train['condition'] == 1].groupby('time')['F4'].mean().plot()"
   ]
  },
  {
   "cell_type": "code",
   "execution_count": 10,
   "metadata": {},
   "outputs": [
    {
     "data": {
      "text/plain": [
       "<matplotlib.axes._subplots.AxesSubplot at 0x7fdf8b370110>"
      ]
     },
     "execution_count": 10,
     "metadata": {},
     "output_type": "execute_result"
    },
    {
     "data": {
      "image/png": "[encoded data removed]",
      "text/plain": [
       "<Figure size 432x288 with 1 Axes>"
      ]
     },
     "metadata": {
      "needs_background": "light"
     },
     "output_type": "display_data"
    }
   ],
   "source": [
    "df_train[df_train['condition'] != 1].groupby('time')['F4'].mean().plot()"
   ]
  },
  {
   "cell_type": "code",
   "execution_count": 11,
   "metadata": {},
   "outputs": [],
   "source": [
    "def calc_features(df):\n",
    "    feats = []\n",
    "    for epoch_idx, epoch_df in df.groupby('epoch'):\n",
    "\n",
    "        epoch_df = epoch_df[ch_names]\n",
    "\n",
    "        psds, freqs = psd_array_multitaper(epoch_df.T.values, 160, verbose=False)\n",
    "\n",
    "        total_power = psds.sum(axis=1)\n",
    "\n",
    "        idx_from = np.where(freqs > 13)[0][0]\n",
    "        idx_to = np.where(freqs > 25)[0][0]\n",
    "        b_pwr = psds[:,idx_from:idx_to].sum(axis=1) / total_power\n",
    "\n",
    "        d = {}\n",
    "        d['epoch'] = epoch_idx\n",
    "\n",
    "        for ch in ch_names:\n",
    "            s = epoch_df.iloc[40:][ch]\n",
    "            val = (s > 5).sum()\n",
    "            d[ch.lower() + '_p300'] = val\n",
    "\n",
    "        feats.append(d)\n",
    "\n",
    "    feats_df = pd.DataFrame(feats)\n",
    "    \n",
    "    return feats_df"
   ]
  },
  {
   "cell_type": "markdown",
   "metadata": {},
   "source": [
    "## Common ML workflow"
   ]
  },
  {
   "cell_type": "code",
   "execution_count": 12,
   "metadata": {},
   "outputs": [],
   "source": [
    "X = get_target(df_train)\n",
    "X = X.merge(calc_features(df_train), on='epoch')\n",
    "y = X['condition'].apply(lambda x: 0 if x == 1 else 1)\n",
    "del X['epoch']\n",
    "del X['condition']"
   ]
  },
  {
   "cell_type": "code",
   "execution_count": 13,
   "metadata": {},
   "outputs": [],
   "source": [
    "X_train, X_test, y_train, y_test = train_test_split(\n",
    "    X, y, test_size=0.33, random_state=42)"
   ]
  },
  {
   "cell_type": "code",
   "execution_count": 14,
   "metadata": {},
   "outputs": [],
   "source": [
    "scaler = StandardScaler()\n",
    "X_train_sc = scaler.fit_transform(X_train)\n",
    "X_test_sc = scaler.transform(X_test)"
   ]
  },
  {
   "cell_type": "code",
   "execution_count": 15,
   "metadata": {},
   "outputs": [],
   "source": [
    "model = LogisticRegression(C=1)"
   ]
  },
  {
   "cell_type": "code",
   "execution_count": 16,
   "metadata": {},
   "outputs": [
    {
     "data": {
      "text/plain": [
       "LogisticRegression(C=1)"
      ]
     },
     "execution_count": 16,
     "metadata": {},
     "output_type": "execute_result"
    }
   ],
   "source": [
    "model.fit(X_train_sc, y_train)"
   ]
  },
  {
   "cell_type": "code",
   "execution_count": 17,
   "metadata": {},
   "outputs": [
    {
     "data": {
      "text/plain": [
       "0.7982700892857142"
      ]
     },
     "execution_count": 17,
     "metadata": {},
     "output_type": "execute_result"
    }
   ],
   "source": [
    "y_pred_train = model.predict_proba(X_train_sc)[:, 1]\n",
    "roc_auc_score(y_train, y_pred_train)"
   ]
  },
  {
   "cell_type": "code",
   "execution_count": 18,
   "metadata": {},
   "outputs": [],
   "source": [
    "y_pred = model.predict_proba(X_test)[:, 1]"
   ]
  },
  {
   "cell_type": "code",
   "execution_count": 19,
   "metadata": {},
   "outputs": [
    {
     "data": {
      "text/plain": [
       "0.7251131221719458"
      ]
     },
     "execution_count": 19,
     "metadata": {},
     "output_type": "execute_result"
    }
   ],
   "source": [
    "roc_auc_score(y_test, y_pred)"
   ]
  },
  {
   "cell_type": "markdown",
   "metadata": {},
   "source": [
    "## Visualize t-SNE"
   ]
  },
  {
   "cell_type": "code",
   "execution_count": 20,
   "metadata": {},
   "outputs": [],
   "source": [
    "X_embedded = TSNE(n_components=2).fit_transform(X)"
   ]
  },
  {
   "cell_type": "code",
   "execution_count": 21,
   "metadata": {},
   "outputs": [
    {
     "data": {
      "text/plain": [
       "<matplotlib.collections.PathCollection at 0x7fdf8b2b8b50>"
      ]
     },
     "execution_count": 21,
     "metadata": {},
     "output_type": "execute_result"
    },
    {
     "data": {
      "image/png": "[encoded data removed]",
      "text/plain": [
       "<Figure size 432x288 with 1 Axes>"
      ]
     },
     "metadata": {
      "needs_background": "light"
     },
     "output_type": "display_data"
    }
   ],
   "source": [
    "plt.scatter(X_embedded[np.where(y == 0), 0], X_embedded[np.where(y == 0), 1])\n",
    "plt.scatter(X_embedded[np.where(y == 1), 0], X_embedded[np.where(y == 1), 1])"
   ]
  },
  {
   "cell_type": "markdown",
   "metadata": {},
   "source": [
    "## Build submission"
   ]
  },
  {
   "cell_type": "code",
   "execution_count": 22,
   "metadata": {},
   "outputs": [],
   "source": [
    "scaler = StandardScaler()\n",
    "X_sc = scaler.fit_transform(X)"
   ]
  },
  {
   "cell_type": "code",
   "execution_count": 23,
   "metadata": {},
   "outputs": [
    {
     "data": {
      "text/plain": [
       "LogisticRegression(C=1)"
      ]
     },
     "execution_count": 23,
     "metadata": {},
     "output_type": "execute_result"
    }
   ],
   "source": [
    "model.fit(X, y)"
   ]
  },
  {
   "cell_type": "code",
   "execution_count": null,
   "metadata": {},
   "outputs": [],
   "source": [
    "X_test = calc_features(df_train)\n",
    "submission = X_test[['epoch']].copy()\n",
    "del X_test['epoch']"
   ]
  },
  {
   "cell_type": "code",
   "execution_count": null,
   "metadata": {},
   "outputs": [],
   "source": [
    "y_pred = model.predict_proba(X_test)[:, 1]"
   ]
  },
  {
   "cell_type": "code",
   "execution_count": null,
   "metadata": {},
   "outputs": [],
   "source": [
    "submission['y_pred'] = y_pred"
   ]
  },
  {
   "cell_type": "code",
   "execution_count": null,
   "metadata": {},
   "outputs": [],
   "source": [
    "submission.head()"
   ]
  },
  {
   "cell_type": "code",
   "execution_count": null,
   "metadata": {},
   "outputs": [],
   "source": [
    "submission.to_csv('sample_submission.csv', index=False)"
   ]
  },
  {
   "cell_type": "code",
   "execution_count": null,
   "metadata": {},
   "outputs": [],
   "source": []
  }
 ],
 "metadata": {
  "kernelspec": {
   "display_name": "Python 3",
   "language": "python",
   "name": "python3"
  },
  "language_info": {
   "codemirror_mode": {
    "name": "ipython",
    "version": 3
   },
   "file_extension": ".py",
   "mimetype": "text/x-python",
   "name": "python",
   "nbconvert_exporter": "python",
   "pygments_lexer": "ipython3",
   "version": "3.7.6"
  }
 },
 "nbformat": 4,
 "nbformat_minor": 4
}
