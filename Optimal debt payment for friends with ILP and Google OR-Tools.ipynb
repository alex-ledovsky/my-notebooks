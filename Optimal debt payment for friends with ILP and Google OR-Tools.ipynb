{
 "cells": [
  {
   "cell_type": "markdown",
   "metadata": {},
   "source": [
    "# Optimal debt payment for friends with ILP and Google OR-Tools\n",
    "\n",
    "This is the example notebook how to use Google OR-Tools to solve a combinatorial problem. Condidered problem and approach is a bit more difficult than what you can see in tutorial. We will use additional variables to reduce a non-linear problem to a linear one.\n",
    "\n",
    "### The plot\n",
    "\n",
    "My friends and I made an awesome trip to Austria. All the time we paid for needs of all: dinners, groccery and stuff\n",
    "\n",
    "At the end we made a list of all transactions with debts to each other. Then, we need to calculate who need to pay to whom. As we don't like to find easy solutions, it's obvious that we may use Interger Linear Programmin approach to solver the problem!\n",
    "\n",
    "### The model\n",
    "\n",
    "*Here we consider only one possible approach to the problem. There are some other and I will describe them later.*\n",
    "\n",
    "Objective. Out objective is to minimize number of transactions to clear off the debt.\n",
    "\n",
    "**Variables**\n",
    "\n",
    "* $k \\in [1, \\ldots , N]$ - index of person\n",
    "* $x_{ij} \\in [0, \\infty]$ - amount of money from person i to j\n",
    "* $y_{ij} \\in \\{0, 1 \\}$ - if there is a transaction from i to j\n",
    "* $s_{i}$ - current saldo of the person i\n",
    "\n",
    "So we use one variable to indicate if transaction is allowed and another one to define amount. \n",
    "\n",
    "**Constraints**\n",
    "\n",
    "* We want that inbound and outbound transactions would be equal to current saldo\n",
    "* We want that we transfer money ($x > 0$) only if $y = 1$\n",
    "\n",
    "**The whole ILP (Integer Linear Program)**\n",
    "\n",
    "$$\n",
    "\\sum_{ij} y_{ij} \\rightarrow \\min \\\\\n",
    "\\sum_{i} x_{ik} - \\sum_{j} x_{kj} = s_k \\> \\forall k \\\\\n",
    "x_{ij} < y_{ij} \\cdot \\text{max_amount}\n",
    "$$\n",
    "\n",
    "3rd condition may seem wierd. Actually, if we want to leave the problem linear, we **can not** formulate 2nd condition as \n",
    "\n",
    "$$\\sum_{i} x_{ik} y_{ik} - \\sum_{j} x_{kj} y_{ik} = s_k$$\n",
    "\n",
    "So, the 3rd condition is a kind of workaround. We need to define *max_amount* constant that is also seems artificial.\n",
    "\n",
    "### Other possible approaches\n",
    "\n",
    "ILP approach is weak to the problem scaling. It means that if you have more persons it may never be calculated. But from the other side, ILP gives an exact solution.\n",
    "\n",
    "Alternative to ILP is to use approximate algorithms. There are tons of possibilities but one good idea is to use heuristic for $y$ and solve the problem with fixed $y$ using Constraint Programming (CP) on every step\n",
    "\n",
    "For example:\n",
    "\n",
    "* Run a greedy solution. Satisfy saldo of each person one by one\n",
    "* Set $y_{ij} = 1$ from transactions from greedy solutions\n",
    "* Loop. \n",
    "    * For each $i, j \\> : \\> y_{ij} = 1$\n",
    "        * Set $y_{ij} = 0$. \n",
    "        * Try CP\n",
    "        * If solution exists save the change and start new loop iteration\n",
    "    * If no new solution found - finish the algorighm\n",
    "\n"
   ]
  },
  {
   "cell_type": "code",
   "execution_count": 45,
   "metadata": {},
   "outputs": [],
   "source": [
    "# In case you havnt install OR Tools\n",
    "#!pip install ortools"
   ]
  },
  {
   "cell_type": "code",
   "execution_count": 46,
   "metadata": {},
   "outputs": [],
   "source": [
    "import numpy as np\n",
    "import pandas as pd\n",
    "\n",
    "from ortools.linear_solver import pywraplp"
   ]
  },
  {
   "cell_type": "markdown",
   "metadata": {},
   "source": [
    "## Data Preprocessing"
   ]
  },
  {
   "cell_type": "code",
   "execution_count": 47,
   "metadata": {},
   "outputs": [],
   "source": [
    "df_transactions = pd.read_csv('soelden.csv', decimal=',')"
   ]
  },
  {
   "cell_type": "code",
   "execution_count": 48,
   "metadata": {},
   "outputs": [
    {
     "data": {
      "text/html": [
       "<div>\n",
       "<style scoped>\n",
       "    .dataframe tbody tr th:only-of-type {\n",
       "        vertical-align: middle;\n",
       "    }\n",
       "\n",
       "    .dataframe tbody tr th {\n",
       "        vertical-align: top;\n",
       "    }\n",
       "\n",
       "    .dataframe thead th {\n",
       "        text-align: right;\n",
       "    }\n",
       "</style>\n",
       "<table border=\"1\" class=\"dataframe\">\n",
       "  <thead>\n",
       "    <tr style=\"text-align: right;\">\n",
       "      <th></th>\n",
       "      <th>Описание</th>\n",
       "      <th>Дата</th>\n",
       "      <th>Сумма</th>\n",
       "      <th>Кто платил</th>\n",
       "      <th>Саша</th>\n",
       "      <th>Антон</th>\n",
       "      <th>Рома</th>\n",
       "      <th>Валера</th>\n",
       "      <th>Вася</th>\n",
       "      <th>Андрей</th>\n",
       "      <th>Женя</th>\n",
       "      <th>Миша</th>\n",
       "      <th>Проверка</th>\n",
       "    </tr>\n",
       "  </thead>\n",
       "  <tbody>\n",
       "    <tr>\n",
       "      <th>0</th>\n",
       "      <td>Завтрак в отеле</td>\n",
       "      <td>09.02.19</td>\n",
       "      <td>120.0</td>\n",
       "      <td>Саша</td>\n",
       "      <td>15.00</td>\n",
       "      <td>15.00</td>\n",
       "      <td>15.00</td>\n",
       "      <td>15.00</td>\n",
       "      <td>15.00</td>\n",
       "      <td>15.00</td>\n",
       "      <td>15.00</td>\n",
       "      <td>15.00</td>\n",
       "      <td>True</td>\n",
       "    </tr>\n",
       "    <tr>\n",
       "      <th>1</th>\n",
       "      <td>Магазин</td>\n",
       "      <td>09.02.19</td>\n",
       "      <td>127.0</td>\n",
       "      <td>Рома</td>\n",
       "      <td>15.88</td>\n",
       "      <td>15.88</td>\n",
       "      <td>15.88</td>\n",
       "      <td>15.88</td>\n",
       "      <td>15.88</td>\n",
       "      <td>15.88</td>\n",
       "      <td>15.88</td>\n",
       "      <td>15.88</td>\n",
       "      <td>True</td>\n",
       "    </tr>\n",
       "    <tr>\n",
       "      <th>2</th>\n",
       "      <td>Ужин (Die Alm)</td>\n",
       "      <td>09.02.19</td>\n",
       "      <td>208.3</td>\n",
       "      <td>Женя</td>\n",
       "      <td>8.30</td>\n",
       "      <td>31.30</td>\n",
       "      <td>26.90</td>\n",
       "      <td>31.30</td>\n",
       "      <td>15.70</td>\n",
       "      <td>27.50</td>\n",
       "      <td>35.00</td>\n",
       "      <td>32.30</td>\n",
       "      <td>True</td>\n",
       "    </tr>\n",
       "    <tr>\n",
       "      <th>3</th>\n",
       "      <td>Ужин чаевые</td>\n",
       "      <td>09.02.19</td>\n",
       "      <td>10.0</td>\n",
       "      <td>Женя</td>\n",
       "      <td>1.25</td>\n",
       "      <td>1.25</td>\n",
       "      <td>1.25</td>\n",
       "      <td>1.25</td>\n",
       "      <td>1.25</td>\n",
       "      <td>1.25</td>\n",
       "      <td>1.25</td>\n",
       "      <td>1.25</td>\n",
       "      <td>True</td>\n",
       "    </tr>\n",
       "    <tr>\n",
       "      <th>4</th>\n",
       "      <td>Обед на горе (только 4 человека)</td>\n",
       "      <td>10.02.19</td>\n",
       "      <td>62.1</td>\n",
       "      <td>Женя</td>\n",
       "      <td>0.00</td>\n",
       "      <td>0.00</td>\n",
       "      <td>11.70</td>\n",
       "      <td>11.70</td>\n",
       "      <td>0.00</td>\n",
       "      <td>0.00</td>\n",
       "      <td>17.30</td>\n",
       "      <td>21.40</td>\n",
       "      <td>True</td>\n",
       "    </tr>\n",
       "  </tbody>\n",
       "</table>\n",
       "</div>"
      ],
      "text/plain": [
       "                           Описание      Дата  Сумма Кто платил   Саша  Антон  \\\n",
       "0                   Завтрак в отеле  09.02.19  120.0       Саша  15.00  15.00   \n",
       "1                           Магазин  09.02.19  127.0       Рома  15.88  15.88   \n",
       "2                    Ужин (Die Alm)  09.02.19  208.3       Женя   8.30  31.30   \n",
       "3                       Ужин чаевые  09.02.19   10.0       Женя   1.25   1.25   \n",
       "4  Обед на горе (только 4 человека)  10.02.19   62.1       Женя   0.00   0.00   \n",
       "\n",
       "    Рома  Валера   Вася  Андрей   Женя   Миша  Проверка  \n",
       "0  15.00   15.00  15.00   15.00  15.00  15.00      True  \n",
       "1  15.88   15.88  15.88   15.88  15.88  15.88      True  \n",
       "2  26.90   31.30  15.70   27.50  35.00  32.30      True  \n",
       "3   1.25    1.25   1.25    1.25   1.25   1.25      True  \n",
       "4  11.70   11.70   0.00    0.00  17.30  21.40      True  "
      ]
     },
     "execution_count": 48,
     "metadata": {},
     "output_type": "execute_result"
    }
   ],
   "source": [
    "df_transactions.head()"
   ]
  },
  {
   "cell_type": "code",
   "execution_count": 49,
   "metadata": {},
   "outputs": [],
   "source": [
    "persons = df_transactions.columns[4:-1]"
   ]
  },
  {
   "cell_type": "code",
   "execution_count": 50,
   "metadata": {},
   "outputs": [],
   "source": [
    "costs = (\n",
    "    df_transactions\n",
    "    .groupby('Кто платил')['Сумма']\n",
    "    .sum()\n",
    "    .to_frame()\n",
    "    .rename(columns={'Сумма': 'costs'}))"
   ]
  },
  {
   "cell_type": "code",
   "execution_count": 51,
   "metadata": {},
   "outputs": [],
   "source": [
    "debts = (\n",
    "    df_transactions[persons]\n",
    "    .sum()\n",
    "    .to_frame()\n",
    "    .rename(columns={0: 'debts'}))"
   ]
  },
  {
   "cell_type": "code",
   "execution_count": 52,
   "metadata": {},
   "outputs": [],
   "source": [
    "df_result = costs.merge(debts, left_index=True, right_index=True)\n",
    "df_result['saldo'] = df_result['costs'] - df_result['debts']"
   ]
  },
  {
   "cell_type": "code",
   "execution_count": 53,
   "metadata": {},
   "outputs": [
    {
     "data": {
      "text/html": [
       "<div>\n",
       "<style scoped>\n",
       "    .dataframe tbody tr th:only-of-type {\n",
       "        vertical-align: middle;\n",
       "    }\n",
       "\n",
       "    .dataframe tbody tr th {\n",
       "        vertical-align: top;\n",
       "    }\n",
       "\n",
       "    .dataframe thead th {\n",
       "        text-align: right;\n",
       "    }\n",
       "</style>\n",
       "<table border=\"1\" class=\"dataframe\">\n",
       "  <thead>\n",
       "    <tr style=\"text-align: right;\">\n",
       "      <th></th>\n",
       "      <th>costs</th>\n",
       "      <th>debts</th>\n",
       "      <th>saldo</th>\n",
       "    </tr>\n",
       "  </thead>\n",
       "  <tbody>\n",
       "    <tr>\n",
       "      <th>Андрей</th>\n",
       "      <td>91.50</td>\n",
       "      <td>238.01</td>\n",
       "      <td>-146.51</td>\n",
       "    </tr>\n",
       "    <tr>\n",
       "      <th>Антон</th>\n",
       "      <td>119.98</td>\n",
       "      <td>245.60</td>\n",
       "      <td>-125.62</td>\n",
       "    </tr>\n",
       "    <tr>\n",
       "      <th>Валера</th>\n",
       "      <td>247.14</td>\n",
       "      <td>245.70</td>\n",
       "      <td>1.44</td>\n",
       "    </tr>\n",
       "    <tr>\n",
       "      <th>Вася</th>\n",
       "      <td>309.88</td>\n",
       "      <td>201.85</td>\n",
       "      <td>108.03</td>\n",
       "    </tr>\n",
       "    <tr>\n",
       "      <th>Женя</th>\n",
       "      <td>590.30</td>\n",
       "      <td>346.95</td>\n",
       "      <td>243.35</td>\n",
       "    </tr>\n",
       "    <tr>\n",
       "      <th>Миша</th>\n",
       "      <td>342.50</td>\n",
       "      <td>355.47</td>\n",
       "      <td>-12.97</td>\n",
       "    </tr>\n",
       "    <tr>\n",
       "      <th>Рома</th>\n",
       "      <td>129.50</td>\n",
       "      <td>267.44</td>\n",
       "      <td>-137.94</td>\n",
       "    </tr>\n",
       "    <tr>\n",
       "      <th>Саша</th>\n",
       "      <td>243.10</td>\n",
       "      <td>173.08</td>\n",
       "      <td>70.02</td>\n",
       "    </tr>\n",
       "  </tbody>\n",
       "</table>\n",
       "</div>"
      ],
      "text/plain": [
       "         costs   debts   saldo\n",
       "Андрей   91.50  238.01 -146.51\n",
       "Антон   119.98  245.60 -125.62\n",
       "Валера  247.14  245.70    1.44\n",
       "Вася    309.88  201.85  108.03\n",
       "Женя    590.30  346.95  243.35\n",
       "Миша    342.50  355.47  -12.97\n",
       "Рома    129.50  267.44 -137.94\n",
       "Саша    243.10  173.08   70.02"
      ]
     },
     "execution_count": 53,
     "metadata": {},
     "output_type": "execute_result"
    }
   ],
   "source": [
    "df_result"
   ]
  },
  {
   "cell_type": "code",
   "execution_count": 61,
   "metadata": {},
   "outputs": [],
   "source": [
    "saldo_vals = df_result['saldo'].to_dict()"
   ]
  },
  {
   "cell_type": "code",
   "execution_count": 62,
   "metadata": {},
   "outputs": [
    {
     "data": {
      "text/plain": [
       "{'Андрей': -146.51,\n",
       " 'Антон': -125.61999999999999,\n",
       " 'Валера': 1.4399999999999693,\n",
       " 'Вася': 108.03000000000003,\n",
       " 'Женя': 243.3499999999999,\n",
       " 'Миша': -12.970000000000027,\n",
       " 'Рома': -137.94,\n",
       " 'Саша': 70.02000000000001}"
      ]
     },
     "execution_count": 62,
     "metadata": {},
     "output_type": "execute_result"
    }
   ],
   "source": [
    "persons = list(saldo_vals.keys())\n",
    "saldo_vals"
   ]
  },
  {
   "cell_type": "code",
   "execution_count": 63,
   "metadata": {},
   "outputs": [],
   "source": [
    "person_idx = {person: i for i, person in enumerate(persons)}\n",
    "\n",
    "person_idx_inv = {v: k for k, v in person_idx.items()}"
   ]
  },
  {
   "cell_type": "markdown",
   "metadata": {},
   "source": [
    "## The model"
   ]
  },
  {
   "cell_type": "code",
   "execution_count": 64,
   "metadata": {},
   "outputs": [],
   "source": [
    "solver = pywraplp.Solver('SolveIntegerProblem',\n",
    "                         pywraplp.Solver.CBC_MIXED_INTEGER_PROGRAMMING)\n",
    "\n",
    "max_transaction = 1000\n",
    "\n",
    "allow_vars = {}\n",
    "amount_vars = {}\n",
    "\n",
    "saldo_constrains = {}\n",
    "for person in persons:\n",
    "    saldo_constrains[person] = [saldo_vals[person]]\n",
    "\n",
    "objective_expr = solver.Objective()\n",
    "\n",
    "for person_from in persons:\n",
    "    allow_vars[person_from] = {}\n",
    "    amount_vars[person_from] = {}\n",
    "    \n",
    "    for person_to in persons:\n",
    "        if person_from == person_to:\n",
    "            continue\n",
    "        allow_vars[person_from][person_to] = solver.BoolVar('y_{}_{}'.format(\n",
    "            person_idx[person_from], person_idx[person_to]))\n",
    "        \n",
    "        amount_vars[person_from][person_to] = solver.NumVar(0.0, solver.infinity(), 'x_{}_{}'.format(\n",
    "            person_idx[person_from], person_idx[person_to]))\n",
    "        \n",
    "        # add to objective if transaction is allowed\n",
    "        objective_expr.SetCoefficient(allow_vars[person_from][person_to], 1)\n",
    "        \n",
    "        saldo_constrains[person_from].append(\n",
    "            amount_vars[person_from][person_to])\n",
    "        saldo_constrains[person_to].append(\n",
    "            -1 * amount_vars[person_from][person_to])\n",
    "        \n",
    "        # if y = 0 => x = 0 either\n",
    "        solver.Add(amount_vars[person_from][person_to] <= allow_vars[person_from][person_to] * max_transaction)\n",
    "        \n",
    "\n",
    "for person in persons:\n",
    "    solver.Add(solver.Sum(saldo_constrains[person]) <= 0.1)\n",
    "    solver.Add(solver.Sum(saldo_constrains[person]) >= -0.1)"
   ]
  },
  {
   "cell_type": "code",
   "execution_count": 65,
   "metadata": {},
   "outputs": [
    {
     "data": {
      "text/plain": [
       "0"
      ]
     },
     "execution_count": 65,
     "metadata": {},
     "output_type": "execute_result"
    }
   ],
   "source": [
    "objective_expr.SetMinimization()\n",
    "solver.Solve()"
   ]
  },
  {
   "cell_type": "code",
   "execution_count": 67,
   "metadata": {},
   "outputs": [],
   "source": [
    "rows = []\n",
    "for person_from in persons:\n",
    "    for person_to in persons:\n",
    "        if person_from == person_to:\n",
    "            continue\n",
    "        val = amount_vars[person_from][person_to].solution_value()\n",
    "        if val > 0:\n",
    "            rows.append((person_from, person_to, val))\n",
    "            \n",
    "df_result = pd.DataFrame(rows, columns=['От кого', 'Кому', 'Сумма'])"
   ]
  },
  {
   "cell_type": "code",
   "execution_count": null,
   "metadata": {},
   "outputs": [],
   "source": []
  },
  {
   "cell_type": "code",
   "execution_count": 68,
   "metadata": {
    "scrolled": true
   },
   "outputs": [
    {
     "data": {
      "text/html": [
       "<div>\n",
       "<style scoped>\n",
       "    .dataframe tbody tr th:only-of-type {\n",
       "        vertical-align: middle;\n",
       "    }\n",
       "\n",
       "    .dataframe tbody tr th {\n",
       "        vertical-align: top;\n",
       "    }\n",
       "\n",
       "    .dataframe thead th {\n",
       "        text-align: right;\n",
       "    }\n",
       "</style>\n",
       "<table border=\"1\" class=\"dataframe\">\n",
       "  <thead>\n",
       "    <tr style=\"text-align: right;\">\n",
       "      <th></th>\n",
       "      <th>От кого</th>\n",
       "      <th>Кому</th>\n",
       "      <th>Сумма</th>\n",
       "    </tr>\n",
       "  </thead>\n",
       "  <tbody>\n",
       "    <tr>\n",
       "      <th>0</th>\n",
       "      <td>Андрей</td>\n",
       "      <td>Валера</td>\n",
       "      <td>1.34</td>\n",
       "    </tr>\n",
       "    <tr>\n",
       "      <th>1</th>\n",
       "      <td>Андрей</td>\n",
       "      <td>Женя</td>\n",
       "      <td>105.41</td>\n",
       "    </tr>\n",
       "    <tr>\n",
       "      <th>2</th>\n",
       "      <td>Андрей</td>\n",
       "      <td>Саша</td>\n",
       "      <td>39.86</td>\n",
       "    </tr>\n",
       "    <tr>\n",
       "      <th>3</th>\n",
       "      <td>Антон</td>\n",
       "      <td>Вася</td>\n",
       "      <td>95.26</td>\n",
       "    </tr>\n",
       "    <tr>\n",
       "      <th>4</th>\n",
       "      <td>Антон</td>\n",
       "      <td>Саша</td>\n",
       "      <td>30.26</td>\n",
       "    </tr>\n",
       "    <tr>\n",
       "      <th>5</th>\n",
       "      <td>Миша</td>\n",
       "      <td>Вася</td>\n",
       "      <td>12.87</td>\n",
       "    </tr>\n",
       "    <tr>\n",
       "      <th>6</th>\n",
       "      <td>Рома</td>\n",
       "      <td>Женя</td>\n",
       "      <td>137.84</td>\n",
       "    </tr>\n",
       "  </tbody>\n",
       "</table>\n",
       "</div>"
      ],
      "text/plain": [
       "  От кого    Кому   Сумма\n",
       "0  Андрей  Валера    1.34\n",
       "1  Андрей    Женя  105.41\n",
       "2  Андрей    Саша   39.86\n",
       "3   Антон    Вася   95.26\n",
       "4   Антон    Саша   30.26\n",
       "5    Миша    Вася   12.87\n",
       "6    Рома    Женя  137.84"
      ]
     },
     "execution_count": 68,
     "metadata": {},
     "output_type": "execute_result"
    }
   ],
   "source": [
    "df_result"
   ]
  },
  {
   "cell_type": "code",
   "execution_count": 69,
   "metadata": {},
   "outputs": [
    {
     "data": {
      "text/html": [
       "<div>\n",
       "<style scoped>\n",
       "    .dataframe tbody tr th:only-of-type {\n",
       "        vertical-align: middle;\n",
       "    }\n",
       "\n",
       "    .dataframe tbody tr th {\n",
       "        vertical-align: top;\n",
       "    }\n",
       "\n",
       "    .dataframe thead th {\n",
       "        text-align: right;\n",
       "    }\n",
       "</style>\n",
       "<table border=\"1\" class=\"dataframe\">\n",
       "  <thead>\n",
       "    <tr style=\"text-align: right;\">\n",
       "      <th></th>\n",
       "      <th>Сумма</th>\n",
       "    </tr>\n",
       "    <tr>\n",
       "      <th>От кого</th>\n",
       "      <th></th>\n",
       "    </tr>\n",
       "  </thead>\n",
       "  <tbody>\n",
       "    <tr>\n",
       "      <th>Андрей</th>\n",
       "      <td>146.61</td>\n",
       "    </tr>\n",
       "    <tr>\n",
       "      <th>Антон</th>\n",
       "      <td>125.52</td>\n",
       "    </tr>\n",
       "    <tr>\n",
       "      <th>Миша</th>\n",
       "      <td>12.87</td>\n",
       "    </tr>\n",
       "    <tr>\n",
       "      <th>Рома</th>\n",
       "      <td>137.84</td>\n",
       "    </tr>\n",
       "  </tbody>\n",
       "</table>\n",
       "</div>"
      ],
      "text/plain": [
       "          Сумма\n",
       "От кого        \n",
       "Андрей   146.61\n",
       "Антон    125.52\n",
       "Миша      12.87\n",
       "Рома     137.84"
      ]
     },
     "execution_count": 69,
     "metadata": {},
     "output_type": "execute_result"
    }
   ],
   "source": [
    "df_result.groupby('От кого').sum()"
   ]
  },
  {
   "cell_type": "code",
   "execution_count": 70,
   "metadata": {},
   "outputs": [
    {
     "data": {
      "text/html": [
       "<div>\n",
       "<style scoped>\n",
       "    .dataframe tbody tr th:only-of-type {\n",
       "        vertical-align: middle;\n",
       "    }\n",
       "\n",
       "    .dataframe tbody tr th {\n",
       "        vertical-align: top;\n",
       "    }\n",
       "\n",
       "    .dataframe thead th {\n",
       "        text-align: right;\n",
       "    }\n",
       "</style>\n",
       "<table border=\"1\" class=\"dataframe\">\n",
       "  <thead>\n",
       "    <tr style=\"text-align: right;\">\n",
       "      <th></th>\n",
       "      <th>Сумма</th>\n",
       "    </tr>\n",
       "    <tr>\n",
       "      <th>Кому</th>\n",
       "      <th></th>\n",
       "    </tr>\n",
       "  </thead>\n",
       "  <tbody>\n",
       "    <tr>\n",
       "      <th>Валера</th>\n",
       "      <td>1.34</td>\n",
       "    </tr>\n",
       "    <tr>\n",
       "      <th>Вася</th>\n",
       "      <td>108.13</td>\n",
       "    </tr>\n",
       "    <tr>\n",
       "      <th>Женя</th>\n",
       "      <td>243.25</td>\n",
       "    </tr>\n",
       "    <tr>\n",
       "      <th>Саша</th>\n",
       "      <td>70.12</td>\n",
       "    </tr>\n",
       "  </tbody>\n",
       "</table>\n",
       "</div>"
      ],
      "text/plain": [
       "         Сумма\n",
       "Кому          \n",
       "Валера    1.34\n",
       "Вася    108.13\n",
       "Женя    243.25\n",
       "Саша     70.12"
      ]
     },
     "execution_count": 70,
     "metadata": {},
     "output_type": "execute_result"
    }
   ],
   "source": [
    "df_result.groupby('Кому').sum()"
   ]
  },
  {
   "cell_type": "code",
   "execution_count": null,
   "metadata": {},
   "outputs": [],
   "source": []
  }
 ],
 "metadata": {
  "kernelspec": {
   "display_name": "Python 3",
   "language": "python",
   "name": "python3"
  },
  "language_info": {
   "codemirror_mode": {
    "name": "ipython",
    "version": 3
   },
   "file_extension": ".py",
   "mimetype": "text/x-python",
   "name": "python",
   "nbconvert_exporter": "python",
   "pygments_lexer": "ipython3",
   "version": "3.7.1"
  }
 },
 "nbformat": 4,
 "nbformat_minor": 2
}
